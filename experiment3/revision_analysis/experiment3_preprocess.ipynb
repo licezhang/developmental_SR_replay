{
 "cells": [
  {
   "cell_type": "code",
   "execution_count": 16,
   "metadata": {},
   "outputs": [],
   "source": [
    "import pandas as pd\n",
    "import glob\n",
    "import json\n",
    "import ast\n",
    "\n",
    "data_path = \"../data/full_dataset/*.csv\"\n",
    "exact_ages = pd.read_csv(\"../data/exact_ages.csv\")\n",
    "csv_files = glob.glob(data_path)"
   ]
  },
  {
   "cell_type": "markdown",
   "metadata": {},
   "source": [
    "# Exclude participants and join data"
   ]
  },
  {
   "cell_type": "code",
   "execution_count": 18,
   "metadata": {},
   "outputs": [],
   "source": [
    "data_df = []\n",
    "data_quality_df = pd.DataFrame(columns = [\"browser_interactions\",\"missed_trials\", \"avg_rt\",\"comp_retries\",\"categorical_age\", \"excluded\"])\n",
    "\n",
    "for f in csv_files:\n",
    "    df = pd.read_csv(f)\n",
    "    metadata = json.loads(df.iloc[1]['metadata'])\n",
    "    df['sub'] = metadata['subject_id'] \n",
    "    df['age'] = float(exact_ages[exact_ages['Subject ID'] == int(metadata['subject_id'])].iloc[0]['Age'])\n",
    "    # assign categorical age if age <=12 'kids, 13-18 'teens', 19-64 'adults', 65+ 'seniors'\n",
    "    df['categorical_age'] = pd.cut(df['age'], bins=[7,13,18,23], labels=['Children','Adolescents','Adults'])\n",
    "    \n",
    "    # calculate exclusion criteria for each subject\n",
    "    browser_interact = df['browser_interaction'].count()\n",
    "    comp_errors = df['num_errors'].sum()\n",
    "    timeouts = df['timeout'].sum()\n",
    "    mean_RT = pd.concat([df['boat_rt'], df['island_rt']], ignore_index=True).mean()\n",
    "    low_quality = browser_interact > 20 or comp_errors > 3 or timeouts > 10 or mean_RT > 5000\n",
    "    data_quality_df.loc[int(metadata['subject_id'])] = [browser_interact,timeouts,mean_RT, comp_errors, df['categorical_age'].iloc[0], low_quality]\n",
    "    \n",
    "    if not low_quality:\n",
    "        # preprocess data by combining prior non-traversal trial info with current traversal trial info\n",
    "        df = df[(df.index > df[df['trial_type'] == 'sailing-instructions'].index[-1]) & (df['trial_type'] == 'sailing-trial')]\n",
    "        df['reward_probabilities'] = df.apply(lambda x: ast.literal_eval(x.reward_probabilities), axis=1)\n",
    "        df = df.drop(['trial_type','trial_index','time_elapsed','internal_node_id','value','metadata','success','failed_images','failed_audio','failed_video','browser_interaction','low_quality','stimulus','response','rt','responses','num_errors','view_history'], axis=1)\n",
    "        df.rename(columns={'boat': 'shop'}, inplace=True)\n",
    "        full_trials = df.iloc[2::2].reset_index()\n",
    "        shop_trials = df.iloc[1:-1:2].reset_index()\n",
    "        full_trials['prior_timeout'] = shop_trials['timeout']\n",
    "        full_trials['prior_shop'] = shop_trials['shop']\n",
    "        full_trials['prior_reward'] = shop_trials['reward']\n",
    "        full_trials['trial_num'] = full_trials.index\n",
    "        \n",
    "        data_df.append(full_trials)\n",
    "        \n",
    "data_df = pd.concat(data_df, ignore_index=True)"
   ]
  },
  {
   "cell_type": "markdown",
   "metadata": {},
   "source": [
    "# Preprocessing data to compute variables of interest"
   ]
  },
  {
   "cell_type": "code",
   "execution_count": 19,
   "metadata": {},
   "outputs": [],
   "source": [
    "# remove time out trials and calculate action1TowardsPrevEnd (whether island choice on traversal trial is towards shop shown in non-traversal trial)\n",
    "data_df = data_df[(data_df['timeout']==False) & (data_df['prior_timeout']==False)]\n",
    "data_df['action1TowardsPrevEnd'] = (2*data_df['island'] <= data_df['prior_shop']) & (data_df['prior_shop'] <= (2*data_df['island']+1))\n",
    "data_df['action1TowardsPrevEnd'] = data_df['action1TowardsPrevEnd'].astype(int)\n",
    "\n",
    "def is_congruent(before, current):\n",
    "    if type(before) != type(current):\n",
    "        return None\n",
    "    if (before[0] < 0.5 and current[0] < 0.5) or (before[0] >= 0.5 and current[0] >= 0.5):\n",
    "        return 1\n",
    "    else:\n",
    "        return 0\n",
    "    \n",
    "# create block and block_change_congruent columns \n",
    "data_df['block'] = data_df.groupby('sub', group_keys=False)['reward_probabilities'].apply(lambda x: (x != x.shift()).cumsum())\n",
    "x = data_df.groupby(['sub','block']).first().reset_index()\n",
    "x['prior_reward_probabilities'] = x.groupby('sub')['reward_probabilities'].shift()\n",
    "x['block_change_congruent'] = x.apply(lambda row: is_congruent(row['prior_reward_probabilities'], row['reward_probabilities']), axis=1)\n",
    "data_df = data_df.merge(x[['sub', 'block', 'block_change_congruent']], on=['sub', 'block'], how='left')"
   ]
  },
  {
   "cell_type": "code",
   "execution_count": 20,
   "metadata": {},
   "outputs": [],
   "source": [
    "def get_prior_shop_choice(row,df=data_df):\n",
    "    # Filter the DataFrame to get rows with the same subject_id and accessible island\n",
    "    subset = df[(df['sub'] == row['sub']) & (df['island'] == row['prior_shop']//2)]\n",
    "    \n",
    "    # Get the prior row (excluding the current row)\n",
    "    prior_row = subset[subset['trial_num'] < row['trial_num']].tail(1)\n",
    "    \n",
    "    # If there is a prior row, return the prior shop choice, otherwise, return NaN\n",
    "    return prior_row['shop'].values[0]==row['prior_shop'] if not prior_row.empty else None\n",
    "\n",
    "def get_shop_neighbor_prior_reward(row, df=data_df):\n",
    "    # Filter the DataFrame to get rows with the same subject_id and accessible island\n",
    "    neighbor_shop_mapping = {1: 0, 0: 1, 3: 2, 2: 3}\n",
    "    neighbor_shop = neighbor_shop_mapping[row['prior_shop']]\n",
    "    subset = df[(df['sub'] == row['sub']) & ((df['shop'] == neighbor_shop) | (df['prior_shop'] == neighbor_shop))]\n",
    "    \n",
    "    # Get the prior row (excluding the current row)\n",
    "    prior_row = subset[subset['trial_num'] < row['trial_num']].tail(1)\n",
    "\n",
    "    rewarded = None\n",
    "    if not prior_row.empty:\n",
    "        if prior_row['prior_shop'].values[0] == neighbor_shop:\n",
    "            rewarded = prior_row['prior_reward'].values[0]\n",
    "        if prior_row['shop'].values[0] == neighbor_shop:\n",
    "            rewarded = prior_row['reward'].values[0]\n",
    "    return rewarded"
   ]
  },
  {
   "cell_type": "code",
   "execution_count": 21,
   "metadata": {},
   "outputs": [],
   "source": [
    "data_df['prior_shop_choice'] = data_df.apply(get_prior_shop_choice, axis=1)\n",
    "data_df['shop_neighbor_prior_reward'] = data_df.apply(get_shop_neighbor_prior_reward, axis=1)\n",
    "data_df = data_df[(data_df['prior_shop_choice'].notnull()) & (data_df['shop_neighbor_prior_reward'].notnull()) & (data_df['prior_reward'].notnull())].copy()\n",
    "data_df['prior_shop_choice'] = data_df['prior_shop_choice'].astype(int)\n",
    "data_df['repeat_island'] = (data_df['island'] == data_df['island'].shift(1)).astype(int)\n",
    "data_df['prior_island_reward'] = data_df['reward'].shift(1)\n",
    "data_df = data_df[(data_df['prior_island_reward'].notnull())].copy()"
   ]
  },
  {
   "cell_type": "code",
   "execution_count": 22,
   "metadata": {},
   "outputs": [],
   "source": [
    "data_df.to_csv('../data/preprocessed/data.csv')\n",
    "data_quality_df.to_csv('../data/preprocessed/excluded.csv')"
   ]
  }
 ],
 "metadata": {
  "kernelspec": {
   "display_name": "reval",
   "language": "python",
   "name": "python3"
  },
  "language_info": {
   "codemirror_mode": {
    "name": "ipython",
    "version": 3
   },
   "file_extension": ".py",
   "mimetype": "text/x-python",
   "name": "python",
   "nbconvert_exporter": "python",
   "pygments_lexer": "ipython3",
   "version": "3.12.4"
  }
 },
 "nbformat": 4,
 "nbformat_minor": 2
}
